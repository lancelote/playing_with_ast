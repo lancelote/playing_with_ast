{
  "cells": [
    {
      "cell_type": "markdown",
      "source": "# [The AST and Me talk][1] code samples\n\n [1]: https://youtu.be/XhWvz4dK4ng",
      "metadata": {
        "pycharm": {
          "metadata": false,
          "name": "#%% m"
        }
      }
    },
    {
      "cell_type": "markdown",
      "metadata": {
        "collapsed": true,
        "pycharm": {
          "name": "#%% m"
        }
      },
      "source": "## Dependencies\n\n### Build-in\n\n- `ast`\n- `dis`\n\n### Third-party\n\n- `astor`\n- `mata`\n- `codegen`"
    },
    {
      "cell_type": "markdown",
      "source": "## Inspecting the sample code string",
      "metadata": {
        "pycharm": {
          "metadata": false,
          "name": "#%% m"
        }
      }
    },
    {
      "cell_type": "code",
      "source": "import ast, dis",
      "metadata": {
        "pycharm": {
          "metadata": false,
          "name": "#%% cod"
        }
      },
      "execution_count": 2,
      "outputs": []
    },
    {
      "cell_type": "code",
      "execution_count": 3,
      "outputs": [
        {
          "data": {
            "text/plain": "_ast.Module"
          },
          "metadata": {},
          "output_type": "execute_result",
          "execution_count": 3
        }
      ],
      "source": "source \u003d \u0027print(\"may the force be with you\")\u0027\n# Using exec mode as it allows not only expressions\nnode \u003d ast.parse(source, mode\u003d\u0027exec\u0027)\ntype(node)",
      "metadata": {
        "pycharm": {
          "metadata": false
        }
      }
    },
    {
      "cell_type": "code",
      "execution_count": 4,
      "outputs": [
        {
          "data": {
            "text/plain": "\"Module(body\u003d[Expr(value\u003dCall(func\u003dName(id\u003d\u0027print\u0027, ctx\u003dLoad()), args\u003d[Str(s\u003d\u0027may the force be with you\u0027)], keywords\u003d[]))])\""
          },
          "metadata": {},
          "output_type": "execute_result",
          "execution_count": 4
        }
      ],
      "source": "ast.dump(node)",
      "metadata": {
        "pycharm": {
          "metadata": false
        }
      }
    },
    {
      "cell_type": "code",
      "execution_count": 5,
      "outputs": [
        {
          "data": {
            "text/plain": "code"
          },
          "metadata": {},
          "output_type": "execute_result",
          "execution_count": 5
        }
      ],
      "source": "compiled \u003d compile(node, \u0027\u003cstring\u003e\u0027, mode\u003d\u0027exec\u0027)\ntype(compiled)",
      "metadata": {
        "pycharm": {
          "metadata": false
        }
      }
    },
    {
      "cell_type": "code",
      "source": "dir(compiled)",
      "metadata": {
        "pycharm": {
          "metadata": false,
          "name": "#%% code "
        }
      },
      "execution_count": 6,
      "outputs": [
        {
          "data": {
            "text/plain": "[\u0027__class__\u0027,\n \u0027__delattr__\u0027,\n \u0027__dir__\u0027,\n \u0027__doc__\u0027,\n \u0027__eq__\u0027,\n \u0027__format__\u0027,\n \u0027__ge__\u0027,\n \u0027__getattribute__\u0027,\n \u0027__gt__\u0027,\n \u0027__hash__\u0027,\n \u0027__init__\u0027,\n \u0027__init_subclass__\u0027,\n \u0027__le__\u0027,\n \u0027__lt__\u0027,\n \u0027__ne__\u0027,\n \u0027__new__\u0027,\n \u0027__reduce__\u0027,\n \u0027__reduce_ex__\u0027,\n \u0027__repr__\u0027,\n \u0027__setattr__\u0027,\n \u0027__sizeof__\u0027,\n \u0027__str__\u0027,\n \u0027__subclasshook__\u0027,\n \u0027co_argcount\u0027,\n \u0027co_cellvars\u0027,\n \u0027co_code\u0027,\n \u0027co_consts\u0027,\n \u0027co_filename\u0027,\n \u0027co_firstlineno\u0027,\n \u0027co_flags\u0027,\n \u0027co_freevars\u0027,\n \u0027co_kwonlyargcount\u0027,\n \u0027co_lnotab\u0027,\n \u0027co_name\u0027,\n \u0027co_names\u0027,\n \u0027co_nlocals\u0027,\n \u0027co_stacksize\u0027,\n \u0027co_varnames\u0027]"
          },
          "metadata": {},
          "output_type": "execute_result",
          "execution_count": 6
        }
      ]
    },
    {
      "cell_type": "markdown",
      "source": "## Code object\n\n- Contains instructions and information needed to run the code\n- Internal representation of a piece of Python code\n\nAttributes:\n\n- `co_name` - function, class, etc.\n- `co_varnames` - tuple of all local variable names (including arguments)\n- `co_stacksize`\n- `co_consts` - tuple of all constants\n- `co_argcount` - positional arguments and default values\n- `co_code` - string representing a sequence of byte code instructions",
      "metadata": {
        "pycharm": {
          "metadata": false,
          "name": "#%% m"
        }
      }
    },
    {
      "cell_type": "code",
      "source": "compiled.co_code",
      "metadata": {
        "pycharm": {
          "metadata": false,
          "name": "#%% cod"
        }
      },
      "execution_count": 7,
      "outputs": [
        {
          "data": {
            "text/plain": "b\u0027e\\x00d\\x00\\x83\\x01\\x01\\x00d\\x01S\\x00\u0027"
          },
          "metadata": {},
          "output_type": "execute_result",
          "execution_count": 7
        }
      ]
    },
    {
      "cell_type": "code",
      "execution_count": 8,
      "outputs": [
        {
          "name": "stdout",
          "text": [
            "may the force be with you\n"
          ],
          "output_type": "stream"
        }
      ],
      "source": "exec(compiled)",
      "metadata": {
        "pycharm": {
          "metadata": false
        }
      }
    },
    {
      "cell_type": "code",
      "execution_count": 9,
      "outputs": [
        {
          "data": {
            "text/plain": "[101, 0, 100, 0, 131, 1, 1, 0, 100, 1, 83, 0]"
          },
          "metadata": {},
          "output_type": "execute_result",
          "execution_count": 9
        }
      ],
      "source": "[byte for byte in compiled.co_code]",
      "metadata": {
        "pycharm": {
          "metadata": false
        }
      }
    },
    {
      "cell_type": "code",
      "execution_count": 10,
      "outputs": [
        {
          "name": "stdout",
          "text": [
            "  1           0 LOAD_NAME                0 (print)\n              2 LOAD_CONST               0 (\u0027may the force be with you\u0027)\n              4 CALL_FUNCTION            1\n              6 POP_TOP\n              8 LOAD_CONST               1 (None)\n             10 RETURN_VALUE\n"
          ],
          "output_type": "stream"
        }
      ],
      "source": "dis.dis(compiled)",
      "metadata": {
        "pycharm": {
          "metadata": false
        }
      }
    },
    {
      "cell_type": "code",
      "execution_count": 11,
      "outputs": [
        {
          "name": "stdout",
          "text": [
            "Name:              \u003cmodule\u003e\nFilename:          \u003cstring\u003e\nArgument count:    0\nKw-only arguments: 0\nNumber of locals:  0\nStack size:        2\nFlags:             NOFREE\nConstants:\n   0: \u0027may the force be with you\u0027\n   1: None\nNames:\n   0: print\n"
          ],
          "output_type": "stream"
        }
      ],
      "source": "dis.show_code(compiled)",
      "metadata": {
        "pycharm": {
          "metadata": false
        }
      }
    }
  ],
  "metadata": {
    "kernelspec": {
      "display_name": "Python 2",
      "language": "python",
      "name": "python2"
    },
    "language_info": {
      "codemirror_mode": {
        "name": "ipython",
        "version": 2
      },
      "file_extension": ".py",
      "mimetype": "text/x-python",
      "name": "python",
      "nbconvert_exporter": "python",
      "pygments_lexer": "ipython2",
      "version": "2.7.6"
    }
  },
  "nbformat": 4,
  "nbformat_minor": 0
}