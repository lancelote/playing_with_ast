{
  "cells": [
    {
      "cell_type": "markdown",
      "metadata": {
        "pycharm": {
          "metadata": false,
          "name": "#%% md\n"
        }
      },
      "source": "# [The AST and Me talk][1] code samples\n\n [1]: https://youtu.be/XhWvz4dK4ng"
    },
    {
      "cell_type": "markdown",
      "metadata": {
        "collapsed": true,
        "pycharm": {
          "name": "#%% md\n"
        }
      },
      "source": "## Dependencies\n\n### Build-in\n\n- `ast`\n- `dis`\n\n### Third-party\n\n- `astor`\n- `mata`\n- `codegen`"
    },
    {
      "cell_type": "markdown",
      "metadata": {
        "pycharm": {
          "metadata": false,
          "name": "#%% md\n"
        }
      },
      "source": "## Inspecting the sample code string"
    },
    {
      "cell_type": "code",
      "execution_count": null,
      "metadata": {
        "pycharm": {
          "metadata": false,
          "name": "#%%\n"
        }
      },
      "outputs": [],
      "source": "import ast, dis"
    },
    {
      "cell_type": "code",
      "execution_count": 3,
      "metadata": {
        "pycharm": {
          "metadata": false
        }
      },
      "outputs": [
        {
          "data": {
            "text/plain": [
              "_ast.Module"
            ]
          },
          "execution_count": 3,
          "metadata": {},
          "output_type": "execute_result"
        }
      ],
      "source": [
        "source \u003d \u0027print(\"may the force be with you\")\u0027\n",
        "# Using exec mode as it allows not only expressions\n",
        "node \u003d ast.parse(source, mode\u003d\u0027exec\u0027)\n",
        "type(node)"
      ]
    },
    {
      "cell_type": "code",
      "execution_count": 4,
      "metadata": {
        "pycharm": {
          "metadata": false
        }
      },
      "outputs": [
        {
          "data": {
            "text/plain": [
              "\"Module(body\u003d[Expr(value\u003dCall(func\u003dName(id\u003d\u0027print\u0027, ctx\u003dLoad()), args\u003d[Str(s\u003d\u0027may the force be with you\u0027)], keywords\u003d[]))])\""
            ]
          },
          "execution_count": 4,
          "metadata": {},
          "output_type": "execute_result"
        }
      ],
      "source": [
        "ast.dump(node)"
      ]
    },
    {
      "cell_type": "code",
      "execution_count": 5,
      "metadata": {
        "pycharm": {
          "metadata": false
        }
      },
      "outputs": [
        {
          "data": {
            "text/plain": [
              "code"
            ]
          },
          "execution_count": 5,
          "metadata": {},
          "output_type": "execute_result"
        }
      ],
      "source": [
        "compiled \u003d compile(node, \u0027\u003cstring\u003e\u0027, mode\u003d\u0027exec\u0027)\n",
        "type(compiled)"
      ]
    },
    {
      "cell_type": "code",
      "execution_count": null,
      "metadata": {
        "pycharm": {
          "metadata": false,
          "name": "#%%\n"
        }
      },
      "outputs": [],
      "source": "dir(compiled)"
    },
    {
      "cell_type": "markdown",
      "metadata": {
        "pycharm": {
          "metadata": false,
          "name": "#%% md\n"
        }
      },
      "source": "## Code object\n\n- Contains instructions and information needed to run the code\n- Internal representation of a piece of Python code\n\nAttributes:\n\n- `co_name` - function, class, etc.\n- `co_varnames` - tuple of all local variable names (including arguments)\n- `co_stacksize`\n- `co_consts` - tuple of all constants\n- `co_argcount` - positional arguments and default values\n- `co_code` - string representing a sequence of byte code instructions"
    },
    {
      "cell_type": "code",
      "execution_count": null,
      "metadata": {
        "pycharm": {
          "metadata": false,
          "name": "#%% \n"
        }
      },
      "outputs": [],
      "source": "compiled.co_code"
    },
    {
      "cell_type": "code",
      "execution_count": 8,
      "metadata": {
        "pycharm": {
          "metadata": false
        }
      },
      "outputs": [
        {
          "name": "stdout",
          "output_type": "stream",
          "text": [
            "may the force be with you\n"
          ]
        }
      ],
      "source": "exec compiled"
    },
    {
      "cell_type": "code",
      "execution_count": 9,
      "metadata": {
        "pycharm": {
          "metadata": false
        }
      },
      "outputs": [
        {
          "data": {
            "text/plain": [
              "[101, 0, 100, 0, 131, 1, 1, 0, 100, 1, 83, 0]"
            ]
          },
          "execution_count": 9,
          "metadata": {},
          "output_type": "execute_result"
        }
      ],
      "source": [
        "[byte for byte in compiled.co_code]"
      ]
    },
    {
      "cell_type": "code",
      "execution_count": 10,
      "metadata": {
        "pycharm": {
          "metadata": false
        }
      },
      "outputs": [
        {
          "name": "stdout",
          "output_type": "stream",
          "text": [
            "  1           0 LOAD_NAME                0 (print)\n",
            "              2 LOAD_CONST               0 (\u0027may the force be with you\u0027)\n",
            "              4 CALL_FUNCTION            1\n",
            "              6 POP_TOP\n",
            "              8 LOAD_CONST               1 (None)\n",
            "             10 RETURN_VALUE\n"
          ]
        }
      ],
      "source": [
        "dis.dis(compiled)"
      ]
    },
    {
      "cell_type": "code",
      "execution_count": 11,
      "metadata": {
        "pycharm": {
          "metadata": false
        }
      },
      "outputs": [
        {
          "name": "stdout",
          "output_type": "stream",
          "text": [
            "Name:              \u003cmodule\u003e\n",
            "Filename:          \u003cstring\u003e\n",
            "Argument count:    0\n",
            "Kw-only arguments: 0\n",
            "Number of locals:  0\n",
            "Stack size:        2\n",
            "Flags:             NOFREE\n",
            "Constants:\n",
            "   0: \u0027may the force be with you\u0027\n",
            "   1: None\n",
            "Names:\n",
            "   0: print\n"
          ]
        }
      ],
      "source": [
        "dis.show_code(compiled)"
      ]
    }
  ],
  "metadata": {
    "kernelspec": {
      "display_name": "Python 3",
      "language": "python",
      "name": "python3"
    },
    "language_info": {
      "codemirror_mode": {
        "name": "ipython",
        "version": 3
      },
      "file_extension": ".py",
      "mimetype": "text/x-python",
      "name": "python",
      "nbconvert_exporter": "python",
      "pygments_lexer": "ipython3",
      "version": "3.7.1"
    }
  },
  "nbformat": 4,
  "nbformat_minor": 1
}