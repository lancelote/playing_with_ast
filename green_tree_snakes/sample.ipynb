{
  "cells": [
    {
      "cell_type": "markdown",
      "source": "# Basics",
      "metadata": {
        "pycharm": {
          "metadata": false,
          "name": "#%% m"
        }
      }
    },
    {
      "cell_type": "code",
      "execution_count": 1,
      "metadata": {},
      "outputs": [],
      "source": "import ast\nimport textwrap"
    },
    {
      "cell_type": "markdown",
      "metadata": {
        "pycharm": {
          "name": "#%% m"
        }
      },
      "source": "Build AST from the code stored in the string"
    },
    {
      "cell_type": "code",
      "execution_count": 2,
      "metadata": {},
      "outputs": [
        {
          "name": "stdout",
          "text": [
            "\u003c_ast.Module object at 0x106ffb588\u003e\n"
          ],
          "output_type": "stream"
        }
      ],
      "source": [
        "tree \u003d ast.parse(\"print(\u0027hello world\u0027)\")\n",
        "print(tree)"
      ]
    },
    {
      "cell_type": "markdown",
      "metadata": {
        "pycharm": {
          "name": "#%% m"
        }
      },
      "source": "Compile and execute AST"
    },
    {
      "cell_type": "code",
      "execution_count": 3,
      "metadata": {},
      "outputs": [
        {
          "name": "stdout",
          "text": [
            "hello world\n"
          ],
          "output_type": "stream"
        }
      ],
      "source": "exec(compile(tree, filename\u003d\"\u003cast\u003e\", mode\u003d\"exec\"))"
    },
    {
      "cell_type": "markdown",
      "source": "# Working with AST\n\nPrint the names of any functions defined in the given code",
      "metadata": {
        "pycharm": {
          "metadata": false,
          "name": "#%% m"
        }
      }
    },
    {
      "cell_type": "code",
      "source": "class FuncLister(ast.NodeVisitor):\n    def visit_FunctionDef(self, node):\n        print(node.name)\n        self.generic_visit(node)\n\n\ntree \u003d ast.parse(textwrap.dedent(\"\"\"\n    def foo():\n        pass\n    \n    def bar():\n        pass\n\"\"\"))\nFuncLister().visit(tree)",
      "metadata": {
        "pycharm": {
          "metadata": false,
          "name": "#%% cod"
        }
      },
      "execution_count": 4,
      "outputs": [
        {
          "name": "stdout",
          "text": [
            "foo\nbar\n"
          ],
          "output_type": "stream"
        }
      ]
    },
    {
      "cell_type": "markdown",
      "source": "Walk over nodes (order is not guaranteed)",
      "metadata": {
        "pycharm": {
          "metadata": false,
          "name": "#%% m"
        }
      }
    },
    {
      "cell_type": "code",
      "source": "def main():\n    for node in ast.walk(tree):\n        if isinstance(node, ast.FunctionDef):\n            print(node.name)\n\n\nmain()",
      "metadata": {
        "pycharm": {
          "metadata": false,
          "name": "#%% cod"
        }
      },
      "execution_count": 7,
      "outputs": [
        {
          "name": "stdout",
          "text": [
            "foo\nbar\n"
          ],
          "output_type": "stream"
        }
      ]
    },
    {
      "cell_type": "markdown",
      "source": "# Modifying the Tree\n## Replace `foo` with `data[\u0027foo\u0027]`",
      "metadata": {
        "pycharm": {
          "metadata": false,
          "name": "#%% m"
        }
      }
    },
    {
      "cell_type": "code",
      "source": "tree \u003d ast.parse(textwrap.dedent(\"\"\"\n    data \u003d {\u0027foo\u0027: \u0027bar\u0027}\n    print(foo)\n\"\"\"))\n\n\nclass RewriteName(ast.NodeTransformer):\n    def visit_Name(self, node):\n        if node.id \u003d\u003d \u0027foo\u0027:\n            return ast.copy_location(ast.Subscript(\n                value\u003dast.Name(id\u003d\u0027data\u0027, ctx\u003dast.Load()),\n                slice\u003dast.Index(value\u003dast.Str(s\u003dnode.id)),\n                ctx\u003dnode.ctx\n            ), node)\n        return node\n\n\ntree \u003d RewriteName().visit(tree)\nast.fix_missing_locations(tree)\nexec(compile(tree, filename\u003d\"\u003cast\u003e\", mode\u003d\u0027exec\u0027))",
      "metadata": {
        "pycharm": {
          "metadata": false,
          "name": "#%% cod"
        }
      },
      "execution_count": 29,
      "outputs": [
        {
          "name": "stdout",
          "text": [
            "bar\n"
          ],
          "output_type": "stream"
        }
      ]
    },
    {
      "cell_type": "markdown",
      "source": "## Wrapping Integers",
      "metadata": {
        "pycharm": {
          "metadata": false,
          "name": "#%% m"
        }
      }
    },
    {
      "cell_type": "code",
      "source": "from fractions import Fraction\n\n\nclass IntegerWrapper(ast.NodeTransformer):\n    \"\"\"Wraps all integers in a call to Integer()\"\"\"\n    \n    def visit_Num(self, node):\n        if isinstance(node.n, int):\n            return ast.Call(func\u003dast.Name(id\u003d\u0027Integer\u0027, ctx\u003dast.Load()),\n                            args\u003d[node], keywords\u003d[])\n        return node\n\n\nclass Integer:\n    def __init__(self, value):\n        self.value \u003d value\n    \n    def __truediv__(self, other):\n        if isinstance(other, Integer):\n            return Fraction(numerator\u003dself.value, denominator\u003dother.value)\n\n\ncode \u003d \"print((1/10)+(2/10))\"\nprint(code)\nprint()\n\nprint(\"Without AST transformation:\")\nexec(code)\nprint()\n\nprint(\"With AST transformation:\")\ntree \u003d ast.parse(code)\ntree \u003d IntegerWrapper().visit(tree)\n# Add lineno \u0026 col_offset to the nodes we created\nast.fix_missing_locations(tree)\nexec(compile(tree, \"\u003cast\u003e\", \"exec\"))\n",
      "metadata": {
        "pycharm": {
          "metadata": false,
          "name": "#%% cod"
        }
      },
      "execution_count": 24,
      "outputs": [
        {
          "name": "stdout",
          "text": [
            "print((1/10)+(2/10))\n\nWithout AST transformation:\n0.30000000000000004\n\nWith AST transformation:\n3/10\n"
          ],
          "output_type": "stream"
        }
      ]
    }
  ],
  "metadata": {
    "kernelspec": {
      "display_name": "Python 3",
      "language": "python",
      "name": "python3"
    },
    "language_info": {
      "codemirror_mode": {
        "name": "ipython",
        "version": 3
      },
      "file_extension": ".py",
      "mimetype": "text/x-python",
      "name": "python",
      "nbconvert_exporter": "python",
      "pygments_lexer": "ipython3",
      "version": "3.7.0"
    },
    "stem_cell": {
      "cell_type": "raw",
      "source": "",
      "metadata": {
        "pycharm": {
          "metadata": false
        }
      }
    }
  },
  "nbformat": 4,
  "nbformat_minor": 1
}