{
  "cells": [
    {
      "cell_type": "markdown",
      "source": "# Basics",
      "metadata": {
        "pycharm": {
          "metadata": false,
          "name": "#%% m"
        }
      }
    },
    {
      "cell_type": "code",
      "execution_count": 1,
      "metadata": {},
      "outputs": [],
      "source": "import ast\nimport textwrap"
    },
    {
      "cell_type": "markdown",
      "metadata": {
        "pycharm": {
          "name": "#%% m"
        }
      },
      "source": "Build AST from the code stored in the string"
    },
    {
      "cell_type": "code",
      "execution_count": 2,
      "metadata": {},
      "outputs": [
        {
          "name": "stdout",
          "text": [
            "\u003c_ast.Module object at 0x106ffb588\u003e\n"
          ],
          "output_type": "stream"
        }
      ],
      "source": [
        "tree \u003d ast.parse(\"print(\u0027hello world\u0027)\")\n",
        "print(tree)"
      ]
    },
    {
      "cell_type": "markdown",
      "metadata": {
        "pycharm": {
          "name": "#%% m"
        }
      },
      "source": "Compile and execute AST"
    },
    {
      "cell_type": "code",
      "execution_count": 3,
      "metadata": {},
      "outputs": [
        {
          "name": "stdout",
          "text": [
            "hello world\n"
          ],
          "output_type": "stream"
        }
      ],
      "source": "exec(compile(tree, filename\u003d\"\u003cast\u003e\", mode\u003d\"exec\"))"
    },
    {
      "cell_type": "markdown",
      "source": "# Working with AST\n\nPrint the names of any functions defined in the given code",
      "metadata": {
        "pycharm": {
          "metadata": false,
          "name": "#%% m"
        }
      }
    },
    {
      "cell_type": "code",
      "source": "class FuncLister(ast.NodeVisitor):\n    def visit_FunctionDef(self, node):\n        print(node.name)\n        self.generic_visit(node)\n\n\ntree \u003d ast.parse(textwrap.dedent(\"\"\"\n    def foo():\n        pass\n    \n    def bar():\n        pass\n\"\"\"))\nFuncLister().visit(tree)",
      "metadata": {
        "pycharm": {
          "metadata": false,
          "name": "#%% cod"
        }
      },
      "execution_count": 4,
      "outputs": [
        {
          "name": "stdout",
          "text": [
            "foo\nbar\n"
          ],
          "output_type": "stream"
        }
      ]
    },
    {
      "cell_type": "markdown",
      "source": "Walk over nodes (order is not guaranteed)",
      "metadata": {
        "pycharm": {
          "metadata": false,
          "name": "#%% m"
        }
      }
    },
    {
      "cell_type": "code",
      "source": "for node in ast.walk(tree):\n    if isinstance(node, ast.FunctionDef):\n        print(node.name)",
      "metadata": {
        "pycharm": {
          "metadata": false,
          "name": "#%% cod"
        }
      },
      "execution_count": 7,
      "outputs": [
        {
          "name": "stdout",
          "text": [
            "foo\nbar\n"
          ],
          "output_type": "stream"
        }
      ]
    },
    {
      "cell_type": "markdown",
      "source": "# Modifying the Tree\n## Replace `foo` with `data[\u0027foo\u0027]`",
      "metadata": {
        "pycharm": {
          "metadata": false,
          "name": "#%% m"
        }
      }
    },
    {
      "cell_type": "code",
      "source": "tree \u003d ast.parse(textwrap.dedent(\"\"\"\n    data \u003d {\u0027foo\u0027: \u0027bar\u0027}\n    print(foo)\n\"\"\"))\n\n\nclass RewriteName(ast.NodeTransformer):\n    def visit_Name(self, node):\n        if node.id \u003d\u003d \u0027foo\u0027:\n            return ast.copy_location(ast.Subscript(\n                value\u003dast.Name(id\u003d\u0027data\u0027, ctx\u003dast.Load()),\n                slice\u003dast.Index(value\u003dast.Str(s\u003dnode.id)),\n                ctx\u003dnode.ctx\n            ), node)\n        return node\n\n\ntree \u003d RewriteName().visit(tree)\nast.fix_missing_locations(tree)\nexec(compile(tree, filename\u003d\"\u003cast\u003e\", mode\u003d\u0027exec\u0027))",
      "metadata": {
        "pycharm": {
          "metadata": false,
          "name": "#%% cod"
        }
      },
      "execution_count": 29,
      "outputs": [
        {
          "name": "stdout",
          "text": [
            "bar\n"
          ],
          "output_type": "stream"
        }
      ]
    },
    {
      "cell_type": "markdown",
      "source": "## Wrapping Integers",
      "metadata": {
        "pycharm": {
          "metadata": false,
          "name": "#%% m"
        }
      }
    },
    {
      "cell_type": "code",
      "source": "from fractions import Fraction\n\n\nclass IntegerWrapper(ast.NodeTransformer):\n    \"\"\"Wraps all integers in a call to Integer()\"\"\"\n    \n    def visit_Num(self, node):\n        if isinstance(node.n, int):\n            return ast.Call(func\u003dast.Name(id\u003d\u0027Integer\u0027, ctx\u003dast.Load()),\n                            args\u003d[node], keywords\u003d[])\n        return node\n\n\nclass Integer:\n    def __init__(self, value):\n        self.value \u003d value\n    \n    def __truediv__(self, other):\n        if isinstance(other, Integer):\n            return Fraction(numerator\u003dself.value, denominator\u003dother.value)\n\n\ncode \u003d \"print((1/10)+(2/10))\"\nprint(code)\nprint()\n\nprint(\"Without AST transformation:\")\nexec(code)\nprint()\n\nprint(\"With AST transformation:\")\ntree \u003d ast.parse(code)\ntree \u003d IntegerWrapper().visit(tree)\n# Add lineno \u0026 col_offset to the nodes we created\nast.fix_missing_locations(tree)\nexec(compile(tree, \"\u003cast\u003e\", \"exec\"))",
      "metadata": {
        "pycharm": {
          "metadata": false,
          "name": "#%% cod"
        }
      },
      "execution_count": 24,
      "outputs": [
        {
          "name": "stdout",
          "text": [
            "print((1/10)+(2/10))\n\nWithout AST transformation:\n0.30000000000000004\n\nWith AST transformation:\n3/10\n"
          ],
          "output_type": "stream"
        }
      ]
    },
    {
      "cell_type": "markdown",
      "source": "## Test Runner",
      "metadata": {
        "pycharm": {
          "metadata": false,
          "name": "#%% m"
        }
      }
    },
    {
      "cell_type": "code",
      "source": "\"\"\"This will run asserts.py, but keep going if an assertion fails.\n\nIt also transforms assertions of the form a\u003d\u003db into a function call, which can\ndisplay more info if the \n\"\"\"\nimport ast\n\nfilename \u003d \"asserts.py\"\nwith open(filename, encoding\u003d\u0027utf-8\u0027) as f:\n    code \u003d f.read()\n\n\nclass AssertCmpTransformer(ast.NodeTransformer):\n    \"\"\"Transform \u0027assert a\u003d\u003db\u0027 into \u0027assert_equal(a, b)\u0027\n    \"\"\"\n\n    def visit_Assert(self, node):\n        # If assertion contains comparison\n        #    and it has only one comparison\n        #    and the comparison is equality check\n        if isinstance(node.test, ast.Compare) and \\\n                len(node.test.ops) \u003d\u003d 1 and \\\n                isinstance(node.test.ops[0], ast.Eq):\n            call \u003d ast.Call(func\u003dast.Name(id\u003d\u0027assert_equal\u0027, ctx\u003dast.Load()),\n                            args\u003d[node.test.left, node.test.comparators[0]],\n                            keywords\u003d[])\n            # Wrap the call in an Expr node, because the return value isn\u0027t used\n            new_node \u003d ast.Expr(value\u003dcall)\n            ast.copy_location(new_node, node)\n            ast.fix_missing_locations(new_node)\n            return new_node\n        \n        # Return the original node if we don\u0027t want to change it.\n        return node\n\n\ndef assert_equal(a, b):\n    if a !\u003d b:\n        raise AssertionError(\"%r !\u003d %r\" % (a, b))\n\n\ntree \u003d ast.parse(code)\nlines \u003d [None] + code.splitlines()  # None at [0] so we can index lines from 1\ntest_namespace \u003d {\u0027assert_equal\u0027: assert_equal}\n\ntree \u003d AssertCmpTransformer().visit(tree)\n\nfor node in tree.body:\n    wrapper \u003d ast.Module(body\u003d[node])\n    try:\n        co \u003d compile(wrapper, filename, \u0027exec\u0027)\n        exec(co, test_namespace)\n    except AssertionError as e:\n        print(\"Assertion failed on line\", node.lineno, \":\")\n        print(lines[node.lineno])\n        # If the error has a message, show it.\n        if e.args:\n            print(e)\n        print()",
      "metadata": {
        "pycharm": {
          "metadata": false,
          "name": "#%% cod"
        }
      },
      "execution_count": 7,
      "outputs": [
        {
          "name": "stdout",
          "text": [
            "Assertion failed on line 7 :\nassert diceroll \u003d\u003d 1\n6 !\u003d 1\n\nAssertion failed on line 8 :\nassert diceroll \u003d\u003d 2\n6 !\u003d 2\n\nAssertion failed on line 9 :\nassert diceroll \u003d\u003d 3\n6 !\u003d 3\n\nAssertion failed on line 10 :\nassert diceroll \u003d\u003d 4\n6 !\u003d 4\n\nAssertion failed on line 11 :\nassert diceroll \u003d\u003d 5\n6 !\u003d 5\n\n"
          ],
          "output_type": "stream"
        }
      ]
    }
  ],
  "metadata": {
    "kernelspec": {
      "display_name": "Python 3",
      "language": "python",
      "name": "python3"
    },
    "language_info": {
      "codemirror_mode": {
        "name": "ipython",
        "version": 3
      },
      "file_extension": ".py",
      "mimetype": "text/x-python",
      "name": "python",
      "nbconvert_exporter": "python",
      "pygments_lexer": "ipython3",
      "version": "3.7.0"
    },
    "stem_cell": {
      "cell_type": "raw",
      "source": "",
      "metadata": {
        "pycharm": {
          "metadata": false
        }
      }
    }
  },
  "nbformat": 4,
  "nbformat_minor": 1
}