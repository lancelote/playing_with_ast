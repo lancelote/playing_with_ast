{
 "cells": [
  {
   "cell_type": "markdown",
   "metadata": {
    "pycharm": {
     "metadata": false,
     "name": "#%% m"
    }
   },
   "source": [
    "# Basics"
   ]
  },
  {
   "cell_type": "code",
   "execution_count": 1,
   "metadata": {},
   "outputs": [],
   "source": [
    "import ast\n",
    "import textwrap"
   ]
  },
  {
   "cell_type": "markdown",
   "metadata": {
    "pycharm": {
     "name": "#%% m"
    }
   },
   "source": [
    "Build AST from the code stored in the string"
   ]
  },
  {
   "cell_type": "code",
   "execution_count": 2,
   "metadata": {},
   "outputs": [
    {
     "name": "stdout",
     "output_type": "stream",
     "text": [
      "<_ast.Module object at 0x106ffb588>\n"
     ]
    }
   ],
   "source": [
    "tree = ast.parse(\"print('hello world')\")\n",
    "print(tree)"
   ]
  },
  {
   "cell_type": "markdown",
   "metadata": {
    "pycharm": {
     "name": "#%% m"
    }
   },
   "source": [
    "Compile and execute AST"
   ]
  },
  {
   "cell_type": "code",
   "execution_count": 3,
   "metadata": {},
   "outputs": [
    {
     "name": "stdout",
     "output_type": "stream",
     "text": [
      "hello world\n"
     ]
    }
   ],
   "source": [
    "exec(compile(tree, filename=\"<ast>\", mode=\"exec\"))"
   ]
  },
  {
   "cell_type": "markdown",
   "metadata": {
    "pycharm": {
     "metadata": false,
     "name": "#%% m"
    }
   },
   "source": [
    "# Working with AST\n\nPrint the names of any functions defined in the given code"
   ]
  },
  {
   "cell_type": "code",
   "execution_count": 4,
   "metadata": {
    "pycharm": {
     "metadata": false,
     "name": "#%% cod"
    }
   },
   "outputs": [
    {
     "name": "stdout",
     "output_type": "stream",
     "text": [
      "foo\nbar\n"
     ]
    }
   ],
   "source": [
    "class FuncLister(ast.NodeVisitor):\n",
    "    def visit_FunctionDef(self, node):\n",
    "        print(node.name)\n",
    "        self.generic_visit(node)\n",
    "\n",
    "\n",
    "tree = ast.parse(textwrap.dedent(\"\"\"\n",
    "    def foo():\n",
    "        pass\n",
    "    \n",
    "    def bar():\n",
    "        pass\n",
    "\"\"\"))\n",
    "FuncLister().visit(tree)"
   ]
  },
  {
   "cell_type": "markdown",
   "metadata": {
    "pycharm": {
     "metadata": false,
     "name": "#%% m"
    }
   },
   "source": [
    "Walk over nodes (order is not guaranteed)"
   ]
  },
  {
   "cell_type": "code",
   "execution_count": 7,
   "metadata": {
    "pycharm": {
     "metadata": false,
     "name": "#%% cod"
    }
   },
   "outputs": [
    {
     "name": "stdout",
     "output_type": "stream",
     "text": [
      "foo\nbar\n"
     ]
    }
   ],
   "source": [
    "for node in ast.walk(tree):\n",
    "    if isinstance(node, ast.FunctionDef):\n",
    "        print(node.name)"
   ]
  },
  {
   "cell_type": "markdown",
   "metadata": {
    "pycharm": {
     "metadata": false,
     "name": "#%% m"
    }
   },
   "source": [
    "# Modifying the Tree\n## Replace `foo` with `data['foo']`"
   ]
  },
  {
   "cell_type": "code",
   "execution_count": 29,
   "metadata": {
    "pycharm": {
     "metadata": false,
     "name": "#%% cod"
    }
   },
   "outputs": [
    {
     "name": "stdout",
     "output_type": "stream",
     "text": [
      "bar\n"
     ]
    }
   ],
   "source": [
    "tree = ast.parse(textwrap.dedent(\"\"\"\n",
    "    data = {'foo': 'bar'}\n",
    "    print(foo)\n",
    "\"\"\"))\n",
    "\n",
    "\n",
    "class RewriteName(ast.NodeTransformer):\n",
    "    def visit_Name(self, node):\n",
    "        if node.id == 'foo':\n",
    "            return ast.copy_location(ast.Subscript(\n",
    "                value=ast.Name(id='data', ctx=ast.Load()),\n",
    "                slice=ast.Index(value=ast.Str(s=node.id)),\n",
    "                ctx=node.ctx\n",
    "            ), node)\n",
    "        return node\n",
    "\n",
    "\n",
    "tree = RewriteName().visit(tree)\n",
    "ast.fix_missing_locations(tree)\n",
    "exec(compile(tree, filename=\"<ast>\", mode='exec'))"
   ]
  },
  {
   "cell_type": "markdown",
   "metadata": {
    "pycharm": {
     "metadata": false,
     "name": "#%% m"
    }
   },
   "source": [
    "## Wrapping Integers"
   ]
  },
  {
   "cell_type": "code",
   "execution_count": 24,
   "metadata": {
    "pycharm": {
     "metadata": false,
     "name": "#%% cod"
    }
   },
   "outputs": [
    {
     "name": "stdout",
     "output_type": "stream",
     "text": [
      "print((1/10)+(2/10))\n\nWithout AST transformation:\n0.30000000000000004\n\nWith AST transformation:\n3/10\n"
     ]
    }
   ],
   "source": [
    "from fractions import Fraction\n",
    "\n",
    "\n",
    "class IntegerWrapper(ast.NodeTransformer):\n",
    "    \"\"\"Wraps all integers in a call to Integer()\"\"\"\n",
    "    \n",
    "    def visit_Num(self, node):\n",
    "        if isinstance(node.n, int):\n",
    "            return ast.Call(func=ast.Name(id='Integer', ctx=ast.Load()),\n",
    "                            args=[node], keywords=[])\n",
    "        return node\n",
    "\n",
    "\n",
    "class Integer:\n",
    "    def __init__(self, value):\n",
    "        self.value = value\n",
    "    \n",
    "    def __truediv__(self, other):\n",
    "        if isinstance(other, Integer):\n",
    "            return Fraction(numerator=self.value, denominator=other.value)\n",
    "\n",
    "\n",
    "code = \"print((1/10)+(2/10))\"\n",
    "print(code)\n",
    "print()\n",
    "\n",
    "print(\"Without AST transformation:\")\n",
    "exec(code)\n",
    "print()\n",
    "\n",
    "print(\"With AST transformation:\")\n",
    "tree = ast.parse(code)\n",
    "tree = IntegerWrapper().visit(tree)\n",
    "# Add lineno & col_offset to the nodes we created\n",
    "ast.fix_missing_locations(tree)\n",
    "exec(compile(tree, \"<ast>\", \"exec\"))"
   ]
  },
  {
   "cell_type": "markdown",
   "metadata": {
    "pycharm": {
     "metadata": false,
     "name": "#%% m"
    }
   },
   "source": [
    "## Test Runner"
   ]
  },
  {
   "cell_type": "code",
   "execution_count": 7,
   "metadata": {
    "pycharm": {
     "metadata": false,
     "name": "#%% cod"
    }
   },
   "outputs": [
    {
     "name": "stdout",
     "output_type": "stream",
     "text": [
      "Assertion failed on line 7 :\nassert diceroll == 1\n6 != 1\n\nAssertion failed on line 8 :\nassert diceroll == 2\n6 != 2\n\nAssertion failed on line 9 :\nassert diceroll == 3\n6 != 3\n\nAssertion failed on line 10 :\nassert diceroll == 4\n6 != 4\n\nAssertion failed on line 11 :\nassert diceroll == 5\n6 != 5\n\n"
     ]
    }
   ],
   "source": [
    "\"\"\"This will run asserts.py, but keep going if an assertion fails.\n",
    "\n",
    "It also transforms assertions of the form a==b into a function call, which can\n",
    "display more info if the \n",
    "\"\"\"\n",
    "import ast\n",
    "\n",
    "filename = \"asserts.py\"\n",
    "with open(filename, encoding='utf-8') as f:\n",
    "    code = f.read()\n",
    "\n",
    "\n",
    "class AssertCmpTransformer(ast.NodeTransformer):\n",
    "    \"\"\"Transform 'assert a==b' into 'assert_equal(a, b)'\n",
    "    \"\"\"\n",
    "\n",
    "    def visit_Assert(self, node):\n",
    "        # If assertion contains comparison\n",
    "        #    and it has only one comparison\n",
    "        #    and the comparison is equality check\n",
    "        if isinstance(node.test, ast.Compare) and \\\n",
    "                len(node.test.ops) == 1 and \\\n",
    "                isinstance(node.test.ops[0], ast.Eq):\n",
    "            call = ast.Call(func=ast.Name(id='assert_equal', ctx=ast.Load()),\n",
    "                            args=[node.test.left, node.test.comparators[0]],\n",
    "                            keywords=[])\n",
    "            # Wrap the call in an Expr node, because the return value isn't used\n",
    "            new_node = ast.Expr(value=call)\n",
    "            ast.copy_location(new_node, node)\n",
    "            ast.fix_missing_locations(new_node)\n",
    "            return new_node\n",
    "        \n",
    "        # Return the original node if we don't want to change it.\n",
    "        return node\n",
    "\n",
    "\n",
    "def assert_equal(a, b):\n",
    "    if a != b:\n",
    "        raise AssertionError(\"%r != %r\" % (a, b))\n",
    "\n",
    "\n",
    "tree = ast.parse(code)\n",
    "lines = [None] + code.splitlines()  # None at [0] so we can index lines from 1\n",
    "test_namespace = {'assert_equal': assert_equal}\n",
    "\n",
    "tree = AssertCmpTransformer().visit(tree)\n",
    "\n",
    "for node in tree.body:\n",
    "    wrapper = ast.Module(body=[node])\n",
    "    try:\n",
    "        co = compile(wrapper, filename, 'exec')\n",
    "        exec(co, test_namespace)\n",
    "    except AssertionError as e:\n",
    "        print(\"Assertion failed on line\", node.lineno, \":\")\n",
    "        print(lines[node.lineno])\n",
    "        # If the error has a message, show it.\n",
    "        if e.args:\n",
    "            print(e)\n",
    "        print()"
   ]
  }
 ],
 "metadata": {
  "kernelspec": {
   "display_name": "Python 3",
   "language": "python",
   "name": "python3"
  },
  "language_info": {
   "codemirror_mode": {
    "name": "ipython",
    "version": 3
   },
   "file_extension": ".py",
   "mimetype": "text/x-python",
   "name": "python",
   "nbconvert_exporter": "python",
   "pygments_lexer": "ipython3",
   "version": "3.7.0"
  },
  "stem_cell": {
   "cell_type": "raw",
   "source": "",
   "metadata": {
    "pycharm": {
     "metadata": false
    }
   }
  }
 },
 "nbformat": 4,
 "nbformat_minor": 1
}
